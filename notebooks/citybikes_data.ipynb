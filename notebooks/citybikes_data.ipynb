{
 "cells": [
  {
   "cell_type": "code",
   "execution_count": 1,
   "metadata": {},
   "outputs": [],
   "source": [
    "import pandas as pd\n",
    "import geopandas as gpd"
   ]
  },
  {
   "cell_type": "code",
   "execution_count": 11,
   "metadata": {},
   "outputs": [
    {
     "data": {
      "text/html": [
       "<div>\n",
       "<style scoped>\n",
       "    .dataframe tbody tr th:only-of-type {\n",
       "        vertical-align: middle;\n",
       "    }\n",
       "\n",
       "    .dataframe tbody tr th {\n",
       "        vertical-align: top;\n",
       "    }\n",
       "\n",
       "    .dataframe thead th {\n",
       "        text-align: right;\n",
       "    }\n",
       "</style>\n",
       "<table border=\"1\" class=\"dataframe\">\n",
       "  <thead>\n",
       "    <tr style=\"text-align: right;\">\n",
       "      <th></th>\n",
       "      <th>station_name</th>\n",
       "      <th>total_slots</th>\n",
       "      <th>station_latitude</th>\n",
       "      <th>station_longitude</th>\n",
       "      <th>station_id</th>\n",
       "    </tr>\n",
       "  </thead>\n",
       "  <tbody>\n",
       "    <tr>\n",
       "      <th>0</th>\n",
       "      <td>10th &amp; Cambie</td>\n",
       "      <td>36</td>\n",
       "      <td>49.262487</td>\n",
       "      <td>-123.114397</td>\n",
       "      <td>7a19c49f486d7c0c02b3685d7b240448</td>\n",
       "    </tr>\n",
       "    <tr>\n",
       "      <th>1</th>\n",
       "      <td>Yaletown-Roundhouse Station</td>\n",
       "      <td>16</td>\n",
       "      <td>49.274566</td>\n",
       "      <td>-123.121817</td>\n",
       "      <td>32603a87cfca71d0f7dfa3513bad69d5</td>\n",
       "    </tr>\n",
       "    <tr>\n",
       "      <th>2</th>\n",
       "      <td>Dunsmuir &amp; Beatty</td>\n",
       "      <td>26</td>\n",
       "      <td>49.279764</td>\n",
       "      <td>-123.110154</td>\n",
       "      <td>6d42fa40360f9a6b2bf641c7b8bb2862</td>\n",
       "    </tr>\n",
       "    <tr>\n",
       "      <th>3</th>\n",
       "      <td>12th &amp; Yukon (City Hall)</td>\n",
       "      <td>16</td>\n",
       "      <td>49.260599</td>\n",
       "      <td>-123.113504</td>\n",
       "      <td>66f873d641d448bd1572ab086665a458</td>\n",
       "    </tr>\n",
       "    <tr>\n",
       "      <th>4</th>\n",
       "      <td>8th &amp; Ash</td>\n",
       "      <td>16</td>\n",
       "      <td>49.264215</td>\n",
       "      <td>-123.117772</td>\n",
       "      <td>485d4d24c803cfde829ab89699fed833</td>\n",
       "    </tr>\n",
       "  </tbody>\n",
       "</table>\n",
       "</div>"
      ],
      "text/plain": [
       "                  station_name  total_slots  station_latitude  \\\n",
       "0                10th & Cambie           36         49.262487   \n",
       "1  Yaletown-Roundhouse Station           16         49.274566   \n",
       "2            Dunsmuir & Beatty           26         49.279764   \n",
       "3     12th & Yukon (City Hall)           16         49.260599   \n",
       "4                    8th & Ash           16         49.264215   \n",
       "\n",
       "   station_longitude                        station_id  \n",
       "0        -123.114397  7a19c49f486d7c0c02b3685d7b240448  \n",
       "1        -123.121817  32603a87cfca71d0f7dfa3513bad69d5  \n",
       "2        -123.110154  6d42fa40360f9a6b2bf641c7b8bb2862  \n",
       "3        -123.113504  66f873d641d448bd1572ab086665a458  \n",
       "4        -123.117772  485d4d24c803cfde829ab89699fed833  "
      ]
     },
     "execution_count": 11,
     "metadata": {},
     "output_type": "execute_result"
    }
   ],
   "source": [
    "citybikes_df = pd.read_json('data/citybikes_data.json')\n",
    "\n",
    "citybikes_df = citybikes_df[['station_name', 'total_slots', 'station_latitude', 'station_longitude', 'station_id']]\n",
    "\n",
    "citybikes_df.head()"
   ]
  },
  {
   "cell_type": "code",
   "execution_count": 15,
   "metadata": {},
   "outputs": [],
   "source": [
    "# convert to geodataframe\n",
    "citybikes_gdf = gpd.GeoDataFrame(citybikes_df, geometry=gpd.points_from_xy(citybikes_df.station_longitude, citybikes_df.station_latitude))\n",
    "\n",
    "citybikes_gdf.drop(['station_latitude', 'station_longitude'], axis=1, inplace=True)\n",
    "\n",
    "citybikes_gdf.rename(columns={'station_name': 'bike_station_name', 'total_slots': 'capacity', 'station_id': 'bike_station_id'}, inplace=True)\n",
    "\n",
    "citybikes_gdf.to_file('data/bikeshare_stations.geojson', driver='GeoJSON')"
   ]
  }
 ],
 "metadata": {
  "kernelspec": {
   "display_name": "base_env",
   "language": "python",
   "name": "base_env"
  },
  "language_info": {
   "codemirror_mode": {
    "name": "ipython",
    "version": 3
   },
   "file_extension": ".py",
   "mimetype": "text/x-python",
   "name": "python",
   "nbconvert_exporter": "python",
   "pygments_lexer": "ipython3",
   "version": "3.8.18"
  }
 },
 "nbformat": 4,
 "nbformat_minor": 2
}
