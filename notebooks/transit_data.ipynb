{
 "cells": [
  {
   "cell_type": "code",
   "execution_count": null,
   "metadata": {},
   "outputs": [],
   "source": [
    "import pandas as pd\n",
    "import json\n",
    "import os\n",
    "import geopandas as gpd\n",
    "import requests\n",
    "import time\n",
    "import googlemaps\n",
    "import folium\n",
    "from shapely.geometry import Polygon\n",
    "import numpy as np\n",
    "from sklearn.cluster import KMeans\n",
    "import matplotlib.pyplot as plt\n",
    "from scipy.spatial import distance\n",
    "from scipy.spatial import cKDTree\n",
    "import re\n",
    "from datetime import datetime, timedelta\n",
    "from statistics import mean\n",
    "from datetime import datetime"
   ]
  },
  {
   "cell_type": "code",
   "execution_count": null,
   "metadata": {},
   "outputs": [],
   "source": [
    "api_key = os.getenv('GOOGLE_MAPS_API_KEY')"
   ]
  },
  {
   "cell_type": "code",
   "execution_count": null,
   "metadata": {},
   "outputs": [],
   "source": [
    "df = pd.read_csv('data/grid_coordinates.csv')\n",
    "\n",
    "coordinates = list(map(tuple, df.values))\n",
    "\n",
    "coordinates"
   ]
  },
  {
   "cell_type": "code",
   "execution_count": null,
   "metadata": {},
   "outputs": [],
   "source": [
    "gmaps = googlemaps.Client(key=api_key)\n",
    "\n",
    "# Define a function to retrieve all venues for a given location\n",
    "def get_all_venues(location, radius, venue_type):\n",
    "    initial_result = gmaps.places_nearby(location=location, radius=radius, type=venue_type)\n",
    "    all_results = initial_result.get('results', [])\n",
    "\n",
    "    while 'next_page_token' in initial_result:\n",
    "        time.sleep(3)  # Necessary sleep before using the next page token\n",
    "        initial_result = gmaps.places_nearby(page_token=initial_result['next_page_token'])\n",
    "        all_results.extend(initial_result.get('results', []))\n",
    "\n",
    "    return all_results\n",
    "\n",
    "# Initialize an empty list to store all venues\n",
    "transit_locations = []\n",
    "\n",
    "transit_types = ['bus_station', 'bus_stop', 'ferry_terminal', 'heliport', 'light_rail_station', 'park_and_ride', 'subway_station', 'train_station', 'transit_depot', 'transit_station']\n",
    "\n",
    "# Loop through each coordinate\n",
    "for lat, lng in coordinates:\n",
    "    location = f'{lat},{lng}'  # Format the location as a string\n",
    "    venues = get_all_venues(location, radius=762, venue_type=transit_types)\n",
    "    transit_locations.extend(venues)\n",
    "\n",
    "    # Respect API rate limits\n",
    "    time.sleep(3)  # Adjust the delay as per the API's rate limit"
   ]
  },
  {
   "cell_type": "code",
   "execution_count": null,
   "metadata": {},
   "outputs": [],
   "source": [
    "transit_places_result = pd.DataFrame(transit_locations)\n",
    "\n",
    "transit_places_result.to_csv('data/transit_places_result.csv')"
   ]
  },
  {
   "cell_type": "code",
   "execution_count": null,
   "metadata": {},
   "outputs": [],
   "source": [
    "transit_places_result.head()"
   ]
  },
  {
   "cell_type": "code",
   "execution_count": null,
   "metadata": {},
   "outputs": [],
   "source": [
    "transit_df = transit_places_result[['name', 'place_id', 'geometry', 'types']]"
   ]
  },
  {
   "cell_type": "code",
   "execution_count": null,
   "metadata": {},
   "outputs": [],
   "source": [
    "transit_df['types']"
   ]
  },
  {
   "cell_type": "code",
   "execution_count": null,
   "metadata": {},
   "outputs": [],
   "source": [
    "transit_df['geometry'][0]['location']['lat']"
   ]
  },
  {
   "cell_type": "code",
   "execution_count": null,
   "metadata": {},
   "outputs": [],
   "source": [
    "# Create a map centered around the average coordinates of the venues\n",
    "average_lat = sum(place['geometry']['location']['lat'] for place in transit_df) / len(transit_df)\n",
    "average_lng = sum(place['geometry']['location']['lng'] for place in transit_df) / len(transit_df)\n",
    "m = folium.Map(location=[average_lat, average_lng], zoom_start=13)\n",
    "\n",
    "# Add markers to the map for each venue\n",
    "for place in transit_df:\n",
    "    lat = place['geometry']['location']['lat']\n",
    "    lng = place['geometry']['location']['lng']\n",
    "    name = place.get('name', 'No Name')\n",
    "    folium.Marker([lat, lng], popup=name).add_to(m)\n",
    "\n",
    "# Display the map\n",
    "m"
   ]
  },
  {
   "cell_type": "code",
   "execution_count": null,
   "metadata": {},
   "outputs": [],
   "source": [
    "import pandas as pd\n",
    "import folium\n",
    "\n",
    "# Assuming transit_df is a pandas DataFrame and the 'geometry' column contains dictionaries\n",
    "\n",
    "# Extract 'lat' and 'lng' into separate columns in the DataFrame\n",
    "transit_df['lat'] = transit_df['geometry'].apply(lambda x: x['location']['lat'])\n",
    "transit_df['lng'] = transit_df['geometry'].apply(lambda x: x['location']['lng'])\n",
    "\n",
    "# Calculate the average latitude and longitude\n",
    "average_lat = transit_df['lat'].mean()\n",
    "average_lng = transit_df['lng'].mean()\n",
    "\n",
    "# Create a map centered around the average coordinates of the venues\n",
    "m = folium.Map(location=[average_lat, average_lng], zoom_start=13)\n",
    "\n",
    "# Add markers to the map for each venue\n",
    "for _, place in transit_df.iterrows():\n",
    "    lat = place['lat']\n",
    "    lng = place['lng']\n",
    "    name = place.get('name', 'No Name')  # Adjust this line if 'name' is nested or not directly in the DataFrame\n",
    "    folium.Marker([lat, lng], popup=name).add_to(m)\n",
    "\n",
    "# Display the map\n",
    "m\n",
    "\n"
   ]
  }
 ],
 "metadata": {
  "kernelspec": {
   "display_name": "base_env",
   "language": "python",
   "name": "base_env"
  },
  "language_info": {
   "codemirror_mode": {
    "name": "ipython",
    "version": 3
   },
   "file_extension": ".py",
   "mimetype": "text/x-python",
   "name": "python",
   "nbconvert_exporter": "python",
   "pygments_lexer": "ipython3",
   "version": "3.8.18"
  }
 },
 "nbformat": 4,
 "nbformat_minor": 2
}
